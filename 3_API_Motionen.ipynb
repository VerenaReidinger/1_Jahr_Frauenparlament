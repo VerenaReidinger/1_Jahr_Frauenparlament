{
 "cells": [
  {
   "cell_type": "markdown",
   "metadata": {},
   "source": [
    "# 1 Jahr Frauenparlament: Sammeln der Daten zu Motionen"
   ]
  },
  {
   "cell_type": "code",
   "execution_count": 1,
   "metadata": {},
   "outputs": [],
   "source": [
    "# import libraries\n",
    "import pandas as pd\n",
    "import numpy as np\n",
    "import requests\n",
    "import time\n",
    "import math\n",
    "import matplotlib.pyplot as plt\n",
    "\n",
    "pd.options.display.max_columns = 50\n",
    "pd.options.display.max_rows = 50"
   ]
  },
  {
   "cell_type": "markdown",
   "metadata": {},
   "source": [
    "#### API-Abfragen"
   ]
  },
  {
   "cell_type": "code",
   "execution_count": 86,
   "metadata": {},
   "outputs": [],
   "source": [
    "# Motionen aus NR für Legislaturen 46 - 51 abfragen\n",
    "motionen = pd.DataFrame()\n",
    "legislaturen = [46, 47, 48, 49, 50, 51]\n",
    "for legislatur in legislaturen:\n",
    "    url = f\"https://ws.parlament.ch/odata.svc/Business?$filter=BusinessTypes/ID eq 5 and Language eq 'DE' and SubmissionCouncilAbbreviation eq 'NR' and SubmissionLegislativePeriod eq {legislatur}&$format=json\"\n",
    "    response = requests.get(url) \n",
    "    df = pd.DataFrame(response.json()['d']['results'])\n",
    "    motionen = motionen.append(df, ignore_index=True)\n",
    "    while len(df) > 99:\n",
    "        idmax = df.ID.max()\n",
    "        url = f\"https://ws.parlament.ch/odata.svc/Business?$filter=BusinessTypes/ID eq 5 and Language eq 'DE' and SubmissionCouncilAbbreviation eq 'NR' and SubmissionLegislativePeriod eq {legislatur} and ID gt {idmax}&$format=json\"\n",
    "        response = requests.get(url) \n",
    "        df = pd.DataFrame(response.json()['d']['results'])\n",
    "        motionen = motionen.append(df, ignore_index=True)\n",
    "    time.sleep(60)"
   ]
  },
  {
   "cell_type": "code",
   "execution_count": 87,
   "metadata": {},
   "outputs": [],
   "source": [
    "# Datensatz auf relevante Informationen beschränken\n",
    "motionen = motionen[['ID', 'Title', 'SubmittedText', 'ReasonText',\n",
    "                     'SubmittedBy', 'BusinessStatusText', 'SubmissionCouncilName',\n",
    "                     'SubmissionSession', 'SubmissionLegislativePeriod', 'TagNames']]"
   ]
  },
  {
   "cell_type": "code",
   "execution_count": 71,
   "metadata": {},
   "outputs": [],
   "source": [
    "# Zwischenspeichern der Daten\n",
    "motionen.to_pickle('internal/motionen.pkl')"
   ]
  },
  {
   "cell_type": "code",
   "execution_count": 93,
   "metadata": {},
   "outputs": [],
   "source": [
    "## korrespondierende BusinessRole-Einträge anfragen (50 pro Durchlauf)\n",
    "b_roles = pd.DataFrame()\n",
    "for i in range(1,math.ceil(len(motionen)/50)+1):\n",
    "    time.sleep(120)\n",
    "    br_url = f\"https://ws.parlament.ch/odata.svc/BusinessRole?$filter=(Businesses/ID eq {motionen.iloc[(i-1)*50,0]} \"\n",
    "    for i, motion in motionen.iloc[(i-1)*50+1:i*50,].iterrows():\n",
    "        br_url += f\"or Businesses/ID eq {motion['ID']} \"\n",
    "    br_url += \") and RoleName eq 'Urheber(-in)' and Businesses/Language eq 'DE'&$format=json\"\n",
    "    response = requests.get(br_url)\n",
    "    b_roles = b_roles.append(pd.DataFrame(response.json()['d']['results']), ignore_index=True)"
   ]
  },
  {
   "cell_type": "code",
   "execution_count": 70,
   "metadata": {},
   "outputs": [],
   "source": [
    "# Zwischenspeichern der Daten\n",
    "b_roles.to_pickle('internal/businessroles.pkl')"
   ]
  },
  {
   "cell_type": "code",
   "execution_count": 15,
   "metadata": {},
   "outputs": [],
   "source": [
    "## Informationen zu entsprechenden Nationalratsmitgliedern ermitteln\n",
    "council_members = pd.DataFrame()\n",
    "council_member_ids = pd.DataFrame(b_roles[~pd.isnull(b_roles.MemberCouncilNumber)]['MemberCouncilNumber'].unique(), columns=['MemberCouncilNumber'])\n",
    "for i in [i for i in range(1, math.ceil(len(council_member_ids)/50)+1)]:\n",
    "    mc_url = f\"https://ws.parlament.ch/odata.svc/MemberCouncil?$filter=Language eq 'DE' and (ID eq {council_member_ids.iloc[(i-1)*50,0]} \"\n",
    "    for i, member in council_member_ids.iloc[(i-1)*50+1:i*50,].iterrows():\n",
    "        mc_url += f\"or ID eq {member['MemberCouncilNumber']} \"    \n",
    "    mc_url += \")&$format=json\"\n",
    "    response = requests.get(mc_url)\n",
    "    council_members = council_members.append(pd.DataFrame(response.json()['d']['results']), ignore_index=True)\n",
    "    time.sleep(120)"
   ]
  },
  {
   "cell_type": "code",
   "execution_count": 16,
   "metadata": {},
   "outputs": [],
   "source": [
    "# Zwischenspeichern der Daten\n",
    "council_members.to_pickle('internal/council_members.pkl')"
   ]
  },
  {
   "cell_type": "markdown",
   "metadata": {},
   "source": [
    "#### Daten neu Laden"
   ]
  },
  {
   "cell_type": "code",
   "execution_count": 2,
   "metadata": {},
   "outputs": [],
   "source": [
    "b_roles = pd.read_pickle('internal/businessroles.pkl')\n",
    "council_members = pd.read_pickle('internal/council_members.pkl')\n",
    "motionen = pd.read_pickle('internal/motionen.pkl')"
   ]
  },
  {
   "cell_type": "markdown",
   "metadata": {},
   "source": [
    "#### Daten zusammenführen"
   ]
  },
  {
   "cell_type": "code",
   "execution_count": 19,
   "metadata": {},
   "outputs": [],
   "source": [
    "pers_info = b_roles[['BusinessNumber', 'MemberCouncilNumber']].merge(council_members[['ID', 'FirstName',\n",
    "                                                                                      'LastName', 'GenderAsString',\n",
    "                                                                                      'CantonAbbreviation', 'CouncilAbbreviation',\n",
    "                                                                                      'ParlGroupAbbreviation', 'PartyAbbreviation']],\n",
    "                                                                     left_on='MemberCouncilNumber',\n",
    "                                                                     right_on='ID',\n",
    "                                                                     how='left')"
   ]
  },
  {
   "cell_type": "code",
   "execution_count": 20,
   "metadata": {},
   "outputs": [],
   "source": [
    "full_data = motionen.merge(pers_info, left_on='ID', right_on='BusinessNumber', how='left')"
   ]
  },
  {
   "cell_type": "markdown",
   "metadata": {},
   "source": [
    "#### Zusatzinformationen (Beitrittsdatum) für relevante NR-Mitglieder anfragen"
   ]
  },
  {
   "cell_type": "code",
   "execution_count": 21,
   "metadata": {},
   "outputs": [],
   "source": [
    "council51 = pd.DataFrame(full_data[(full_data.SubmissionLegislativePeriod > 50) & ~(pd.isnull(full_data.MemberCouncilNumber))].MemberCouncilNumber.unique(), columns=['MemberCouncilNumber'])\n",
    "for i in [1, 2, 3]:\n",
    "    mc_history_url = f\"https://ws.parlament.ch/odata.svc/MemberCouncilHistory?$filter=Language eq 'DE' and (PersonNumber eq {council51.iloc[i-1,0]}\" \n",
    "    for i, member in council51.iloc[(i-1)*50+1:i*50,].iterrows():\n",
    "        mc_history_url += f\"or PersonNumber eq {member['MemberCouncilNumber']} \"   \n",
    "    mc_history_url += \") and CouncilAbbreviation eq 'NR'&$format=json\"\n",
    "    response = requests.get(mc_history_url)\n",
    "    temp = pd.DataFrame(response.json()['d']['results'])\n",
    "    for personnumber in temp['PersonNumber'].unique():\n",
    "        if len(temp[temp['PersonNumber'] == personnumber]) > 0:\n",
    "            date_joining = pd.to_datetime(temp[temp['PersonNumber'] == personnumber]['DateJoining'].str[6:-2].astype(int)/1000, unit='s').min()\n",
    "        else:\n",
    "            date_joining = np.nan\n",
    "        council51.loc[council51[council51.MemberCouncilNumber == personnumber].index[0], 'DateJoining'] = date_joining"
   ]
  },
  {
   "cell_type": "code",
   "execution_count": 22,
   "metadata": {},
   "outputs": [],
   "source": [
    "data = full_data[~pd.isnull(full_data.MemberCouncilNumber)].merge(council51, on='MemberCouncilNumber', how='left')"
   ]
  },
  {
   "cell_type": "markdown",
   "metadata": {},
   "source": [
    "#### Neugewählte bestimmen"
   ]
  },
  {
   "cell_type": "code",
   "execution_count": 23,
   "metadata": {},
   "outputs": [],
   "source": [
    "data['NewMember'] = False\n",
    "data.loc[data.DateJoining > '2019-12', 'NewMember'] = True"
   ]
  },
  {
   "cell_type": "markdown",
   "metadata": {},
   "source": [
    "#### Daten speichern"
   ]
  },
  {
   "cell_type": "code",
   "execution_count": 24,
   "metadata": {},
   "outputs": [],
   "source": [
    "# Daten zur weiteren Verarbeitung abspeichern\n",
    "data.to_pickle('internal/data.pkl')"
   ]
  }
 ],
 "metadata": {
  "kernelspec": {
   "display_name": "Python 3",
   "language": "python",
   "name": "python3"
  },
  "language_info": {
   "codemirror_mode": {
    "name": "ipython",
    "version": 3
   },
   "file_extension": ".py",
   "mimetype": "text/x-python",
   "name": "python",
   "nbconvert_exporter": "python",
   "pygments_lexer": "ipython3",
   "version": "3.7.6"
  }
 },
 "nbformat": 4,
 "nbformat_minor": 4
}
